{
  "cells": [
    {
      "cell_type": "markdown",
      "metadata": {
        "id": "gJMosXCKCVeJ"
      },
      "source": [
        "\n",
        "# Vosk Colab Demo"
      ]
    },
    {
      "cell_type": "markdown",
      "metadata": {
        "id": "kaFIKZneuuUJ"
      },
      "source": [
        "Vosk is an open source offline speech recognition toolkit. Vosk \n",
        "contains more than 20 languages and dialects, such as English, German, Russian, Chinese, Czech, etc. The sizes of language models vary from tens of megabytes to several gigabytes. Big models are more accurate. For more information see https://alphacephei.com/vosk/.\n",
        "\n"
      ]
    },
    {
      "cell_type": "markdown",
      "metadata": {
        "id": "-sc8lpD5Brfi"
      },
      "source": [
        "This notebook demonstrates Vosk recognition capabilities."
      ]
    },
    {
      "cell_type": "markdown",
      "metadata": {
        "id": "etxlH1aMCwS1"
      },
      "source": [
        "# Install module and prepare the file"
      ]
    },
    {
      "cell_type": "markdown",
      "metadata": {
        "id": "U83JNjH4y0_9"
      },
      "source": [
        "First, you have to install vosk module using the following code:"
      ]
    },
    {
      "cell_type": "code",
      "execution_count": 1,
      "metadata": {
        "colab": {
          "base_uri": "https://localhost:8080/"
        },
        "id": "C1iiOwzooMid",
        "outputId": "cd273e7d-386f-4e76-fe7e-15177faf8eb1"
      },
      "outputs": [
        {
          "name": "stdout",
          "output_type": "stream",
          "text": [
            "Defaulting to user installation because normal site-packages is not writeable\n",
            "Collecting vosk\n",
            "  Downloading vosk-0.3.44-py3-none-macosx_10_6_universal2.whl.metadata (1.8 kB)\n",
            "Requirement already satisfied: cffi>=1.0 in /Users/mega_potato/Library/Python/3.9/lib/python/site-packages (from vosk) (1.17.1)\n",
            "Requirement already satisfied: requests in /Users/mega_potato/Library/Python/3.9/lib/python/site-packages (from vosk) (2.32.3)\n",
            "Requirement already satisfied: tqdm in /Users/mega_potato/Library/Python/3.9/lib/python/site-packages (from vosk) (4.67.1)\n",
            "Collecting srt (from vosk)\n",
            "  Downloading srt-3.5.3.tar.gz (28 kB)\n",
            "  Preparing metadata (setup.py) ... \u001b[?25ldone\n",
            "\u001b[?25hRequirement already satisfied: websockets in /Users/mega_potato/Library/Python/3.9/lib/python/site-packages (from vosk) (15.0.1)\n",
            "Requirement already satisfied: pycparser in /Users/mega_potato/Library/Python/3.9/lib/python/site-packages (from cffi>=1.0->vosk) (2.22)\n",
            "Requirement already satisfied: charset-normalizer<4,>=2 in /Users/mega_potato/Library/Python/3.9/lib/python/site-packages (from requests->vosk) (3.4.2)\n",
            "Requirement already satisfied: idna<4,>=2.5 in /Users/mega_potato/Library/Python/3.9/lib/python/site-packages (from requests->vosk) (3.10)\n",
            "Requirement already satisfied: urllib3<3,>=1.21.1 in /Users/mega_potato/Library/Python/3.9/lib/python/site-packages (from requests->vosk) (2.4.0)\n",
            "Requirement already satisfied: certifi>=2017.4.17 in /Users/mega_potato/Library/Python/3.9/lib/python/site-packages (from requests->vosk) (2025.4.26)\n",
            "Downloading vosk-0.3.44-py3-none-macosx_10_6_universal2.whl (4.7 MB)\n",
            "\u001b[2K   \u001b[90m━━━━━━━━━━━━━━━━━━━━━━━━━━━━━━━━━━━━━━━━\u001b[0m \u001b[32m4.7/4.7 MB\u001b[0m \u001b[31m9.0 MB/s\u001b[0m eta \u001b[36m0:00:00\u001b[0mta \u001b[36m0:00:01\u001b[0m\n",
            "\u001b[?25hBuilding wheels for collected packages: srt\n",
            "\u001b[33m  DEPRECATION: Building 'srt' using the legacy setup.py bdist_wheel mechanism, which will be removed in a future version. pip 25.3 will enforce this behaviour change. A possible replacement is to use the standardized build interface by setting the `--use-pep517` option, (possibly combined with `--no-build-isolation`), or adding a `pyproject.toml` file to the source tree of 'srt'. Discussion can be found at https://github.com/pypa/pip/issues/6334\u001b[0m\u001b[33m\n",
            "\u001b[0m  Building wheel for srt (setup.py) ... \u001b[?25ldone\n",
            "\u001b[?25h  Created wheel for srt: filename=srt-3.5.3-py3-none-any.whl size=22445 sha256=c5aee323e5b379d5a6d3dee29c57c0079eced27fece68fc71d3528c2967e10e3\n",
            "  Stored in directory: /Users/mega_potato/Library/Caches/pip/wheels/69/cb/6a/5e5977c5c1fab3b94ff429718103884855b0d5671ed9880100\n",
            "Successfully built srt\n",
            "Installing collected packages: srt, vosk\n",
            "\u001b[2K   \u001b[90m━━━━━━━━━━━━━━━━━━━━━━━━━━━━━━━━━━━━━━━━\u001b[0m \u001b[32m2/2\u001b[0m [vosk]\n",
            "\u001b[1A\u001b[2KSuccessfully installed srt-3.5.3 vosk-0.3.44\n"
          ]
        }
      ],
      "source": [
        "!pip3 install vosk"
      ]
    },
    {
      "cell_type": "markdown",
      "metadata": {
        "id": "x-yssTkO83_E"
      },
      "source": [
        "## Importing the necessary modules"
      ]
    },
    {
      "cell_type": "markdown",
      "metadata": {
        "id": "vXvQm4qiy8bG"
      },
      "source": [
        "Secondly, we import here the necessary modules required for all the examples below:"
      ]
    },
    {
      "cell_type": "code",
      "execution_count": 2,
      "metadata": {
        "id": "s7Rkp5pL85dJ"
      },
      "outputs": [
        {
          "name": "stderr",
          "output_type": "stream",
          "text": [
            "/Users/mega_potato/Library/Python/3.9/lib/python/site-packages/urllib3/__init__.py:35: NotOpenSSLWarning: urllib3 v2 only supports OpenSSL 1.1.1+, currently the 'ssl' module is compiled with 'LibreSSL 2.8.3'. See: https://github.com/urllib3/urllib3/issues/3020\n",
            "  warnings.warn(\n"
          ]
        }
      ],
      "source": [
        "from vosk import Model, KaldiRecognizer\n",
        "import wave\n",
        "import json"
      ]
    },
    {
      "cell_type": "markdown",
      "metadata": {
        "id": "puMMIwDRiiji"
      },
      "source": [
        "## Download example audio file"
      ]
    },
    {
      "cell_type": "markdown",
      "metadata": {
        "id": "1Gp0btdJRRK6"
      },
      "source": [
        "You can upload your audio file and listen it by replacing the URL of our example with your own using the code below."
      ]
    },
    {
      "cell_type": "code",
      "execution_count": 9,
      "metadata": {
        "id": "uUyJ-YlmFTUD"
      },
      "outputs": [
        {
          "name": "stdout",
          "output_type": "stream",
          "text": [
            "zsh:1: command not found: wget\n"
          ]
        }
      ],
      "source": [
        "!wget -q -O /content/test.wav https://github.com/alphacep/vosk-api/raw/master/python/example/test.wav\n"
      ]
    },
    {
      "cell_type": "code",
      "execution_count": 10,
      "metadata": {
        "colab": {
          "base_uri": "https://localhost:8080/",
          "height": 75
        },
        "id": "9ve9x0te1yLs",
        "outputId": "acf02c11-5c90-4a03-955d-0e1aa24e35d0"
      },
      "outputs": [
        {
          "ename": "ValueError",
          "evalue": "rate must be specified when data is a numpy array or list of audio samples.",
          "output_type": "error",
          "traceback": [
            "\u001b[0;31m---------------------------------------------------------------------------\u001b[0m",
            "\u001b[0;31mValueError\u001b[0m                                Traceback (most recent call last)",
            "Cell \u001b[0;32mIn[10], line 2\u001b[0m\n\u001b[1;32m      1\u001b[0m \u001b[38;5;28;01mimport\u001b[39;00m\u001b[38;5;250m \u001b[39m\u001b[38;5;21;01mIPython\u001b[39;00m\n\u001b[0;32m----> 2\u001b[0m \u001b[43mIPython\u001b[49m\u001b[38;5;241;43m.\u001b[39;49m\u001b[43mdisplay\u001b[49m\u001b[38;5;241;43m.\u001b[39;49m\u001b[43mAudio\u001b[49m\u001b[43m(\u001b[49m\u001b[38;5;124;43m\"\u001b[39;49m\u001b[38;5;124;43m/content/test.wav\u001b[39;49m\u001b[38;5;124;43m\"\u001b[39;49m\u001b[43m)\u001b[49m\n",
            "File \u001b[0;32m~/Library/Python/3.9/lib/python/site-packages/IPython/lib/display.py:129\u001b[0m, in \u001b[0;36mAudio.__init__\u001b[0;34m(self, data, filename, url, embed, rate, autoplay, normalize, element_id)\u001b[0m\n\u001b[1;32m    127\u001b[0m \u001b[38;5;28;01mif\u001b[39;00m \u001b[38;5;28mself\u001b[39m\u001b[38;5;241m.\u001b[39mdata \u001b[38;5;129;01mis\u001b[39;00m \u001b[38;5;129;01mnot\u001b[39;00m \u001b[38;5;28;01mNone\u001b[39;00m \u001b[38;5;129;01mand\u001b[39;00m \u001b[38;5;129;01mnot\u001b[39;00m \u001b[38;5;28misinstance\u001b[39m(\u001b[38;5;28mself\u001b[39m\u001b[38;5;241m.\u001b[39mdata, \u001b[38;5;28mbytes\u001b[39m):\n\u001b[1;32m    128\u001b[0m     \u001b[38;5;28;01mif\u001b[39;00m rate \u001b[38;5;129;01mis\u001b[39;00m \u001b[38;5;28;01mNone\u001b[39;00m:\n\u001b[0;32m--> 129\u001b[0m         \u001b[38;5;28;01mraise\u001b[39;00m \u001b[38;5;167;01mValueError\u001b[39;00m(\u001b[38;5;124m\"\u001b[39m\u001b[38;5;124mrate must be specified when data is a numpy array or list of audio samples.\u001b[39m\u001b[38;5;124m\"\u001b[39m)\n\u001b[1;32m    130\u001b[0m     \u001b[38;5;28mself\u001b[39m\u001b[38;5;241m.\u001b[39mdata \u001b[38;5;241m=\u001b[39m Audio\u001b[38;5;241m.\u001b[39m_make_wav(data, rate, normalize)\n",
            "\u001b[0;31mValueError\u001b[0m: rate must be specified when data is a numpy array or list of audio samples."
          ]
        }
      ],
      "source": [
        "import IPython\n",
        "IPython.display.Audio(\"/content/test.wav\")"
      ]
    },
    {
      "cell_type": "markdown",
      "metadata": {
        "id": "zRIV7ngEt2Hn"
      },
      "source": [
        "# Recognition examples\n",
        "\n"
      ]
    },
    {
      "cell_type": "markdown",
      "metadata": {
        "id": "foQP3qpWmI4J"
      },
      "source": [
        "By default, Vosk uses vosk-model-small-en-us-0.15, defined by the `en-us` lang option. The other options `model_path` and `model_name` allow you to use a specific model path or model name. "
      ]
    },
    {
      "cell_type": "markdown",
      "metadata": {
        "id": "tgqQGvp3Qv40"
      },
      "source": [
        "When a model is mentioned for the first time, it is automatically downloaded and saved; when a model is mentioned again, an already downloaded model is used.\n",
        "\n",
        "Initializing the model by language:\n"
      ]
    },
    {
      "cell_type": "code",
      "execution_count": 7,
      "metadata": {
        "colab": {
          "base_uri": "https://localhost:8080/"
        },
        "id": "zgE70Gx9Qwnf",
        "outputId": "5677cac8-ff22-434f-80ed-afa5f0fa2faf"
      },
      "outputs": [
        {
          "name": "stderr",
          "output_type": "stream",
          "text": [
            "vosk-model-small-en-us-0.15.zip: 100%|██████████| 39.3M/39.3M [00:03<00:00, 13.2MB/s]\n",
            "LOG (VoskAPI:ReadDataFiles():model.cc:213) Decoding params beam=10 max-active=3000 lattice-beam=2\n",
            "LOG (VoskAPI:ReadDataFiles():model.cc:216) Silence phones 1:2:3:4:5:6:7:8:9:10\n",
            "LOG (VoskAPI:RemoveOrphanNodes():nnet-nnet.cc:948) Removed 0 orphan nodes.\n",
            "LOG (VoskAPI:RemoveOrphanComponents():nnet-nnet.cc:847) Removing 0 orphan components.\n",
            "LOG (VoskAPI:ReadDataFiles():model.cc:248) Loading i-vector extractor from /Users/mega_potato/.cache/vosk/vosk-model-small-en-us-0.15/ivector/final.ie\n",
            "LOG (VoskAPI:ComputeDerivedVars():ivector-extractor.cc:183) Computing derived variables for iVector extractor\n",
            "LOG (VoskAPI:ComputeDerivedVars():ivector-extractor.cc:204) Done.\n",
            "LOG (VoskAPI:ReadDataFiles():model.cc:282) Loading HCL and G from /Users/mega_potato/.cache/vosk/vosk-model-small-en-us-0.15/graph/HCLr.fst /Users/mega_potato/.cache/vosk/vosk-model-small-en-us-0.15/graph/Gr.fst\n",
            "LOG (VoskAPI:ReadDataFiles():model.cc:303) Loading winfo /Users/mega_potato/.cache/vosk/vosk-model-small-en-us-0.15/graph/phones/word_boundary.int\n"
          ]
        }
      ],
      "source": [
        "model = Model(lang=\"en-us\")"
      ]
    },
    {
      "cell_type": "markdown",
      "metadata": {
        "id": "nQ3yyS7kJEX6"
      },
      "source": [
        "Open downloaded file in 'read bytes' mode as wave object:"
      ]
    },
    {
      "cell_type": "code",
      "execution_count": 8,
      "metadata": {
        "id": "U7YPLDBuJGP6"
      },
      "outputs": [
        {
          "ename": "FileNotFoundError",
          "evalue": "[Errno 2] No such file or directory: '/content/test.wav'",
          "output_type": "error",
          "traceback": [
            "\u001b[0;31m---------------------------------------------------------------------------\u001b[0m",
            "\u001b[0;31mFileNotFoundError\u001b[0m                         Traceback (most recent call last)",
            "Cell \u001b[0;32mIn[8], line 1\u001b[0m\n\u001b[0;32m----> 1\u001b[0m wf \u001b[38;5;241m=\u001b[39m \u001b[43mwave\u001b[49m\u001b[38;5;241;43m.\u001b[39;49m\u001b[43mopen\u001b[49m\u001b[43m(\u001b[49m\u001b[38;5;124;43m'\u001b[39;49m\u001b[38;5;124;43m/content/test.wav\u001b[39;49m\u001b[38;5;124;43m'\u001b[39;49m\u001b[43m,\u001b[49m\u001b[43m \u001b[49m\u001b[38;5;124;43m'\u001b[39;49m\u001b[38;5;124;43mrb\u001b[39;49m\u001b[38;5;124;43m'\u001b[39;49m\u001b[43m)\u001b[49m\n",
            "File \u001b[0;32m/Library/Developer/CommandLineTools/Library/Frameworks/Python3.framework/Versions/3.9/lib/python3.9/wave.py:509\u001b[0m, in \u001b[0;36mopen\u001b[0;34m(f, mode)\u001b[0m\n\u001b[1;32m    507\u001b[0m         mode \u001b[38;5;241m=\u001b[39m \u001b[38;5;124m'\u001b[39m\u001b[38;5;124mrb\u001b[39m\u001b[38;5;124m'\u001b[39m\n\u001b[1;32m    508\u001b[0m \u001b[38;5;28;01mif\u001b[39;00m mode \u001b[38;5;129;01min\u001b[39;00m (\u001b[38;5;124m'\u001b[39m\u001b[38;5;124mr\u001b[39m\u001b[38;5;124m'\u001b[39m, \u001b[38;5;124m'\u001b[39m\u001b[38;5;124mrb\u001b[39m\u001b[38;5;124m'\u001b[39m):\n\u001b[0;32m--> 509\u001b[0m     \u001b[38;5;28;01mreturn\u001b[39;00m \u001b[43mWave_read\u001b[49m\u001b[43m(\u001b[49m\u001b[43mf\u001b[49m\u001b[43m)\u001b[49m\n\u001b[1;32m    510\u001b[0m \u001b[38;5;28;01melif\u001b[39;00m mode \u001b[38;5;129;01min\u001b[39;00m (\u001b[38;5;124m'\u001b[39m\u001b[38;5;124mw\u001b[39m\u001b[38;5;124m'\u001b[39m, \u001b[38;5;124m'\u001b[39m\u001b[38;5;124mwb\u001b[39m\u001b[38;5;124m'\u001b[39m):\n\u001b[1;32m    511\u001b[0m     \u001b[38;5;28;01mreturn\u001b[39;00m Wave_write(f)\n",
            "File \u001b[0;32m/Library/Developer/CommandLineTools/Library/Frameworks/Python3.framework/Versions/3.9/lib/python3.9/wave.py:159\u001b[0m, in \u001b[0;36mWave_read.__init__\u001b[0;34m(self, f)\u001b[0m\n\u001b[1;32m    157\u001b[0m \u001b[38;5;28mself\u001b[39m\u001b[38;5;241m.\u001b[39m_i_opened_the_file \u001b[38;5;241m=\u001b[39m \u001b[38;5;28;01mNone\u001b[39;00m\n\u001b[1;32m    158\u001b[0m \u001b[38;5;28;01mif\u001b[39;00m \u001b[38;5;28misinstance\u001b[39m(f, \u001b[38;5;28mstr\u001b[39m):\n\u001b[0;32m--> 159\u001b[0m     f \u001b[38;5;241m=\u001b[39m \u001b[43mbuiltins\u001b[49m\u001b[38;5;241;43m.\u001b[39;49m\u001b[43mopen\u001b[49m\u001b[43m(\u001b[49m\u001b[43mf\u001b[49m\u001b[43m,\u001b[49m\u001b[43m \u001b[49m\u001b[38;5;124;43m'\u001b[39;49m\u001b[38;5;124;43mrb\u001b[39;49m\u001b[38;5;124;43m'\u001b[39;49m\u001b[43m)\u001b[49m\n\u001b[1;32m    160\u001b[0m     \u001b[38;5;28mself\u001b[39m\u001b[38;5;241m.\u001b[39m_i_opened_the_file \u001b[38;5;241m=\u001b[39m f\n\u001b[1;32m    161\u001b[0m \u001b[38;5;66;03m# else, assume it is an open file object already\u001b[39;00m\n",
            "\u001b[0;31mFileNotFoundError\u001b[0m: [Errno 2] No such file or directory: '/content/test.wav'"
          ]
        }
      ],
      "source": [
        "wf = wave.open('/content/test.wav', 'rb')"
      ]
    },
    {
      "cell_type": "markdown",
      "metadata": {
        "id": "X5bWgr6PLPKQ"
      },
      "source": [
        "The KaldiRecognizer class contains the configuration methods needed here, such as SetWords, SetPartialWords, AcceptWaveform, and others.\n",
        "\n",
        "The model object is the first parameter for KaldiRecognizer. The second parameter passed to KaldiRecognizer is the sample rate, which can be passed directly as a number like 8000 or 16000 Hz, which will be demonstrated below or using getframerate method shown in the following code fragment.\n",
        "\n",
        "Creating a KaldiRecognizer object with model and sample rate arguments:"
      ]
    },
    {
      "cell_type": "code",
      "execution_count": 8,
      "metadata": {
        "id": "5McnLKF1LPbE"
      },
      "outputs": [],
      "source": [
        "rec = KaldiRecognizer(model, wf.getframerate())"
      ]
    },
    {
      "cell_type": "markdown",
      "metadata": {
        "id": "7U4eqX0-0yDv"
      },
      "source": [
        "The previous commands are the same for the most of examples, but the following are different.\n",
        "\n",
        "Activating timestamps for recognized words (partial result and result attributes in recognized result) using methods `SetWords` and `SetPartialWords`:"
      ]
    },
    {
      "cell_type": "code",
      "execution_count": 9,
      "metadata": {
        "id": "X4ST1Mi20yUN"
      },
      "outputs": [],
      "source": [
        "rec.SetWords(True)\n",
        "rec.SetPartialWords(True)"
      ]
    },
    {
      "cell_type": "markdown",
      "metadata": {
        "id": "oHXO2gAV_QEP"
      },
      "source": [
        "The `AcceptWaveform` method reports the presence of a pause after a speech fragment in the audio file, which allows it to be returned from the recognizer and print.\n",
        "\n",
        "`KaldiRecognizer` class also contains methods for presenting recognition results, such as `Result`, `PartialResult`, `FinalResult`. \n",
        "\n",
        "\n",
        "> The `PartialResult` method of the `KaldiRecognizer` class returns a string obtained from the dictionary with the \"key\" \"partial\", and the \"value\" that contains recognized fragment of the audio file, which ends with a pause between words.\n",
        "\n",
        "> The `Result` method of the `KaldiRecognizer` class returns a string obtained from the dictionary with the \"key\" \"text\", and the \"value\" that contains recognized fragment of the audio file, which ends with a pause between its parts like phrases and sentences.\n",
        "\n",
        "> The `FinalResult` method of the `KaldiRecognizer` class returns a string obtained from the dictionary with the \"key\" \"text\" and the \"value\" that contains all the recognized text.\n",
        "\n",
        "Run recognition process:"
      ]
    },
    {
      "cell_type": "code",
      "execution_count": 10,
      "metadata": {
        "colab": {
          "base_uri": "https://localhost:8080/"
        },
        "id": "hDUUjPmO_RRN",
        "outputId": "c1233465-6f9a-42ba-93bb-8ff41c60e04b"
      },
      "outputs": [
        {
          "name": "stdout",
          "output_type": "stream",
          "text": [
            "{\n",
            "  \"partial\" : \"\"\n",
            "}\n",
            "{\n",
            "  \"partial\" : \"\"\n",
            "}\n",
            "{\n",
            "  \"partial\" : \"\"\n",
            "}\n",
            "{\n",
            "  \"partial\" : \"\"\n",
            "}\n",
            "{\n",
            "  \"partial\" : \"\"\n",
            "}\n",
            "{\n",
            "  \"partial\" : \"\"\n",
            "}\n",
            "{\n",
            "  \"partial\" : \"\"\n",
            "}\n",
            "{\n",
            "  \"partial\" : \"\"\n",
            "}\n",
            "{\n",
            "  \"partial\" : \"\"\n",
            "}\n",
            "{\n",
            "  \"partial\" : \"\"\n",
            "}\n",
            "{\n",
            "  \"partial\" : \"\"\n",
            "}\n",
            "{\n",
            "  \"partial\" : \"\"\n",
            "}\n",
            "{\n",
            "  \"partial\" : \"one zero zero\",\n",
            "  \"partial_result\" : [{\n",
            "      \"conf\" : 1.000000,\n",
            "      \"end\" : 1.110000,\n",
            "      \"start\" : 0.840000,\n",
            "      \"word\" : \"one\"\n",
            "    }, {\n",
            "      \"conf\" : 1.000000,\n",
            "      \"end\" : 1.530000,\n",
            "      \"start\" : 1.110000,\n",
            "      \"word\" : \"zero\"\n",
            "    }, {\n",
            "      \"conf\" : 1.000000,\n",
            "      \"end\" : 1.890000,\n",
            "      \"start\" : 1.530000,\n",
            "      \"word\" : \"zero\"\n",
            "    }]\n",
            "}\n",
            "{\n",
            "  \"partial\" : \"one zero zero\",\n",
            "  \"partial_result\" : [{\n",
            "      \"conf\" : 1.000000,\n",
            "      \"end\" : 1.110000,\n",
            "      \"start\" : 0.840000,\n",
            "      \"word\" : \"one\"\n",
            "    }, {\n",
            "      \"conf\" : 1.000000,\n",
            "      \"end\" : 1.530000,\n",
            "      \"start\" : 1.110000,\n",
            "      \"word\" : \"zero\"\n",
            "    }, {\n",
            "      \"conf\" : 1.000000,\n",
            "      \"end\" : 1.890000,\n",
            "      \"start\" : 1.530000,\n",
            "      \"word\" : \"zero\"\n",
            "    }]\n",
            "}\n",
            "{\n",
            "  \"result\" : [{\n",
            "      \"conf\" : 1.000000,\n",
            "      \"end\" : 1.110000,\n",
            "      \"start\" : 0.840000,\n",
            "      \"word\" : \"one\"\n",
            "    }, {\n",
            "      \"conf\" : 1.000000,\n",
            "      \"end\" : 1.530000,\n",
            "      \"start\" : 1.110000,\n",
            "      \"word\" : \"zero\"\n",
            "    }, {\n",
            "      \"conf\" : 1.000000,\n",
            "      \"end\" : 1.920000,\n",
            "      \"start\" : 1.530000,\n",
            "      \"word\" : \"zero\"\n",
            "    }, {\n",
            "      \"conf\" : 1.000000,\n",
            "      \"end\" : 2.310000,\n",
            "      \"start\" : 1.920000,\n",
            "      \"word\" : \"zero\"\n",
            "    }, {\n",
            "      \"conf\" : 1.000000,\n",
            "      \"end\" : 2.610000,\n",
            "      \"start\" : 2.310000,\n",
            "      \"word\" : \"one\"\n",
            "    }],\n",
            "  \"text\" : \"one zero zero zero one\"\n",
            "}\n",
            "{\n",
            "  \"partial\" : \"\"\n",
            "}\n",
            "{\n",
            "  \"partial\" : \"\"\n",
            "}\n",
            "{\n",
            "  \"partial\" : \"\"\n",
            "}\n",
            "{\n",
            "  \"partial\" : \"\"\n",
            "}\n",
            "{\n",
            "  \"partial\" : \"\"\n",
            "}\n",
            "{\n",
            "  \"partial\" : \"\"\n",
            "}\n",
            "{\n",
            "  \"partial\" : \"\"\n",
            "}\n",
            "{\n",
            "  \"partial\" : \"\"\n",
            "}\n",
            "{\n",
            "  \"result\" : [{\n",
            "      \"conf\" : 0.560920,\n",
            "      \"end\" : 4.110000,\n",
            "      \"start\" : 3.930000,\n",
            "      \"word\" : \"nah\"\n",
            "    }, {\n",
            "      \"conf\" : 0.616773,\n",
            "      \"end\" : 4.290000,\n",
            "      \"start\" : 4.110000,\n",
            "      \"word\" : \"no\"\n",
            "    }, {\n",
            "      \"conf\" : 0.693737,\n",
            "      \"end\" : 4.560000,\n",
            "      \"start\" : 4.290000,\n",
            "      \"word\" : \"to\"\n",
            "    }, {\n",
            "      \"conf\" : 0.498215,\n",
            "      \"end\" : 4.620000,\n",
            "      \"start\" : 4.560000,\n",
            "      \"word\" : \"i\"\n",
            "    }, {\n",
            "      \"conf\" : 0.785684,\n",
            "      \"end\" : 4.980000,\n",
            "      \"start\" : 4.620000,\n",
            "      \"word\" : \"know\"\n",
            "    }],\n",
            "  \"text\" : \"nah no to i know\"\n",
            "}\n",
            "{\n",
            "  \"partial\" : \"\"\n",
            "}\n",
            "{\n",
            "  \"partial\" : \"\"\n",
            "}\n",
            "{\n",
            "  \"partial\" : \"\"\n",
            "}\n",
            "{\n",
            "  \"partial\" : \"\"\n",
            "}\n",
            "{\n",
            "  \"partial\" : \"\"\n",
            "}\n",
            "{\n",
            "  \"partial\" : \"\"\n",
            "}\n",
            "{\n",
            "  \"partial\" : \"\"\n",
            "}\n",
            "{\n",
            "  \"partial\" : \"zero\",\n",
            "  \"partial_result\" : [{\n",
            "      \"conf\" : 1.000000,\n",
            "      \"end\" : 6.690000,\n",
            "      \"start\" : 6.240000,\n",
            "      \"word\" : \"zero\"\n",
            "    }]\n",
            "}\n",
            "{\n",
            "  \"partial\" : \"zero\",\n",
            "  \"partial_result\" : [{\n",
            "      \"conf\" : 1.000000,\n",
            "      \"end\" : 6.690000,\n",
            "      \"start\" : 6.240000,\n",
            "      \"word\" : \"zero\"\n",
            "    }]\n",
            "}\n",
            "{\n",
            "  \"partial\" : \"zero\",\n",
            "  \"partial_result\" : [{\n",
            "      \"conf\" : 1.000000,\n",
            "      \"end\" : 6.690000,\n",
            "      \"start\" : 6.240000,\n",
            "      \"word\" : \"zero\"\n",
            "    }]\n",
            "}\n",
            "{\n",
            "  \"result\" : [{\n",
            "      \"conf\" : 1.000000,\n",
            "      \"end\" : 6.690000,\n",
            "      \"start\" : 6.240000,\n",
            "      \"word\" : \"zero\"\n",
            "    }, {\n",
            "      \"conf\" : 1.000000,\n",
            "      \"end\" : 6.900000,\n",
            "      \"start\" : 6.690000,\n",
            "      \"word\" : \"one\"\n",
            "    }, {\n",
            "      \"conf\" : 1.000000,\n",
            "      \"end\" : 7.110000,\n",
            "      \"start\" : 6.930000,\n",
            "      \"word\" : \"eight\"\n",
            "    }, {\n",
            "      \"conf\" : 1.000000,\n",
            "      \"end\" : 7.500000,\n",
            "      \"start\" : 7.110000,\n",
            "      \"word\" : \"zero\"\n",
            "    }, {\n",
            "      \"conf\" : 1.000000,\n",
            "      \"end\" : 7.980000,\n",
            "      \"start\" : 7.500000,\n",
            "      \"word\" : \"three\"\n",
            "    }],\n",
            "  \"text\" : \"zero one eight zero three\"\n",
            "}\n"
          ]
        }
      ],
      "source": [
        "while True:\n",
        "    data = wf.readframes(4000)\n",
        "    if len(data) == 0:\n",
        "        break\n",
        "    if rec.AcceptWaveform(data):\n",
        "        print(rec.Result())\n",
        "    else:\n",
        "        print(rec.PartialResult())\n",
        "\n",
        "print(rec.FinalResult())"
      ]
    },
    {
      "cell_type": "markdown",
      "metadata": {
        "id": "osi0Yq2zez5W"
      },
      "source": [
        "## Recognition with alternatives\n",
        "\n",
        "Run the initial code that was described above:"
      ]
    },
    {
      "cell_type": "code",
      "execution_count": 32,
      "metadata": {
        "id": "aAd_SFH6fdQK"
      },
      "outputs": [],
      "source": [
        "wf = wave.open('/content/test.wav', 'rb')\n",
        "model = Model(lang=\"en-us\")\n",
        "rec = KaldiRecognizer(model, wf.getframerate())\n",
        "rec.SetWords(True)"
      ]
    },
    {
      "cell_type": "markdown",
      "metadata": {
        "id": "uAH4IStvKZ3Q"
      },
      "source": [
        "`SetMaxAlternatives(n)` method of the `KaldiRecognizer` class shows no more than 'n' different alternatives of the recognized result, which may appear, for example, due to the low quality of the audio file."
      ]
    },
    {
      "cell_type": "code",
      "execution_count": 12,
      "metadata": {
        "id": "WZPF_vEYKbJB"
      },
      "outputs": [],
      "source": [
        "rec.SetMaxAlternatives(10)"
      ]
    },
    {
      "cell_type": "markdown",
      "metadata": {
        "id": "9XFWqNt_KjeM"
      },
      "source": [
        "The recognition result is converted from a string to a dictionary, which is more convenient for its further processing using the json.loads method.\n",
        "\n",
        "Run recognition process:"
      ]
    },
    {
      "cell_type": "code",
      "execution_count": 13,
      "metadata": {
        "colab": {
          "base_uri": "https://localhost:8080/"
        },
        "id": "azIbIZueKjte",
        "outputId": "e479c52e-86d2-4110-f9fb-4034af840a39"
      },
      "outputs": [
        {
          "name": "stdout",
          "output_type": "stream",
          "text": [
            "{'partial': ''}\n",
            "{'partial': ''}\n",
            "{'partial': ''}\n",
            "{'partial': ''}\n",
            "{'partial': ''}\n",
            "{'partial': 'one'}\n",
            "{'partial': 'one zero'}\n",
            "{'partial': 'one zero zero'}\n",
            "{'partial': 'one zero zero'}\n",
            "{'partial': 'one zero zero zero'}\n",
            "{'partial': 'one zero zero zero one'}\n",
            "{'partial': 'one zero zero zero one'}\n",
            "{'partial': 'one zero zero zero one'}\n",
            "{'partial': 'one zero zero zero one'}\n",
            "{'alternatives': [{'confidence': 265.527069, 'result': [{'end': 1.11, 'start': 0.84, 'word': 'one'}, {'end': 1.53, 'start': 1.11, 'word': 'zero'}, {'end': 1.92, 'start': 1.53, 'word': 'zero'}, {'end': 2.31, 'start': 1.92, 'word': 'zero'}, {'end': 2.61, 'start': 2.31, 'word': 'one'}], 'text': 'one zero zero zero one'}]}\n",
            "{'partial': ''}\n",
            "{'partial': ''}\n",
            "{'partial': 'nah no'}\n",
            "{'partial': 'nah no'}\n",
            "{'partial': 'nah no to'}\n",
            "{'partial': 'nah no to i know'}\n",
            "{'partial': 'nah no to i know'}\n",
            "{'partial': 'nah no to i know'}\n",
            "{'alternatives': [{'confidence': 174.606827, 'result': [{'end': 4.11, 'start': 3.93, 'word': 'nah'}, {'end': 4.29, 'start': 4.11, 'word': 'no'}, {'end': 4.56, 'start': 4.29, 'word': 'to'}, {'end': 4.62, 'start': 4.56, 'word': 'i'}, {'end': 4.98, 'start': 4.62, 'word': 'know'}], 'text': 'nah no to i know'}, {'confidence': 173.904785, 'result': [{'end': 4.17, 'start': 3.93, 'word': 'nine'}, {'end': 4.29, 'start': 4.17, 'word': 'oh'}, {'end': 4.56, 'start': 4.29, 'word': 'two'}, {'end': 4.62, 'start': 4.56, 'word': 'i'}, {'end': 4.98, 'start': 4.62, 'word': 'know'}], 'text': 'nine oh two i know'}, {'confidence': 173.745651, 'result': [{'end': 4.11, 'start': 3.93, 'word': 'nah'}, {'end': 4.29, 'start': 4.11, 'word': 'no'}, {'end': 4.56, 'start': 4.29, 'word': 'to'}, {'end': 4.62, 'start': 4.56, 'word': 'ah'}, {'end': 4.98, 'start': 4.62, 'word': 'no'}], 'text': 'nah no to ah no'}, {'confidence': 173.601868, 'result': [{'end': 4.11, 'start': 3.93, 'word': 'nah'}, {'end': 4.29, 'start': 4.11, 'word': 'no'}, {'end': 4.56, 'start': 4.29, 'word': 'to'}, {'end': 4.62, 'start': 4.56, 'word': 'a'}, {'end': 4.98, 'start': 4.62, 'word': 'know'}], 'text': 'nah no to a know'}, {'confidence': 173.316528, 'result': [{'end': 4.11, 'start': 3.93, 'word': 'nah'}, {'end': 4.29, 'start': 4.11, 'word': 'no'}, {'end': 4.56, 'start': 4.29, 'word': 'two'}, {'end': 4.62, 'start': 4.56, 'word': 'i'}, {'end': 4.98, 'start': 4.62, 'word': 'know'}], 'text': 'nah no two i know'}, {'confidence': 173.297699, 'result': [{'end': 4.17, 'start': 3.93, 'word': 'nine'}, {'end': 4.29, 'start': 4.17, 'word': 'o'}, {'end': 4.56, 'start': 4.29, 'word': 'two'}, {'end': 4.62, 'start': 4.56, 'word': 'i'}, {'end': 4.98, 'start': 4.62, 'word': 'know'}], 'text': 'nine o two i know'}, {'confidence': 173.114288, 'result': [{'end': 4.11, 'start': 3.93, 'word': 'nah'}, {'end': 4.29, 'start': 4.11, 'word': 'no'}, {'end': 4.56, 'start': 4.29, 'word': 'to'}, {'end': 4.62, 'start': 4.56, 'word': 'or'}, {'end': 4.98, 'start': 4.62, 'word': 'know'}], 'text': 'nah no to or know'}, {'confidence': 173.079651, 'result': [{'end': 4.11, 'start': 3.93, 'word': 'nah'}, {'end': 4.29, 'start': 4.11, 'word': 'no'}, {'end': 4.56, 'start': 4.29, 'word': 'to'}, {'end': 4.62, 'start': 4.56, 'word': 'ah'}, {'end': 4.98, 'start': 4.62, 'word': 'know'}], 'text': 'nah no to ah know'}, {'confidence': 173.018143, 'result': [{'end': 4.11, 'start': 3.93, 'word': 'nah'}, {'end': 4.29, 'start': 4.11, 'word': 'no'}, {'end': 4.56, 'start': 4.29, 'word': 'to'}, {'end': 4.62, 'start': 4.56, 'word': 'or'}, {'end': 4.98, 'start': 4.62, 'word': 'no'}], 'text': 'nah no to or no'}, {'confidence': 173.00589, 'result': [{'end': 4.29, 'start': 3.93, 'word': 'nano'}, {'end': 4.56, 'start': 4.29, 'word': 'to'}, {'end': 4.62, 'start': 4.56, 'word': 'i'}, {'end': 4.98, 'start': 4.62, 'word': 'know'}], 'text': 'nano to i know'}]}\n",
            "{'partial': ''}\n",
            "{'partial': ''}\n",
            "{'partial': ''}\n",
            "{'partial': 'zero'}\n",
            "{'partial': 'zero one'}\n",
            "{'partial': 'zero one eight six'}\n",
            "{'partial': 'zero one eight zero'}\n",
            "{'partial': 'zero one eight zero'}\n",
            "{'partial': 'zero one eight zero three'}\n",
            "{'partial': 'zero one eight zero three'}\n",
            "{'alternatives': [{'confidence': 209.819153, 'result': [{'end': 6.69, 'start': 6.24, 'word': 'zero'}, {'end': 6.9, 'start': 6.69, 'word': 'one'}, {'end': 7.11, 'start': 6.93, 'word': 'eight'}, {'end': 7.5, 'start': 7.11, 'word': 'zero'}, {'end': 7.98, 'start': 7.5, 'word': 'three'}], 'text': 'zero one eight zero three'}]}\n"
          ]
        }
      ],
      "source": [
        "while True:\n",
        "    data = wf.readframes(4000)\n",
        "    if len(data) == 0:\n",
        "        break\n",
        "    if rec.AcceptWaveform(data):\n",
        "        print(json.loads(rec.Result()))\n",
        "    else:\n",
        "        print(json.loads(rec.PartialResult()))\n",
        "\n",
        "print(json.loads(rec.FinalResult()))"
      ]
    },
    {
      "cell_type": "markdown",
      "metadata": {
        "id": "oqGYLblyXoys"
      },
      "source": [
        "## Grammar recognizer\n"
      ]
    },
    {
      "cell_type": "markdown",
      "metadata": {
        "id": "UziNTcIeHN7Z"
      },
      "source": [
        "Now lets demonstrate online grammar to improve accuracy."
      ]
    },
    {
      "cell_type": "code",
      "execution_count": 30,
      "metadata": {
        "id": "n1Ptwuy0-0gX"
      },
      "outputs": [],
      "source": [
        "wf = wave.open('/content/test.wav', \"rb\")\n",
        "rec = KaldiRecognizer(model, wf.getframerate(), '[\"one zero zero zero one\", \"nine oh two one oh\", \"zero one eight zero three\", \"[unk]\"]')"
      ]
    },
    {
      "cell_type": "markdown",
      "metadata": {
        "id": "QjeHrGIXYlfz"
      },
      "source": [
        "Using this recognizer we can get more acccurate results since we already specified the expected input "
      ]
    },
    {
      "cell_type": "code",
      "execution_count": 31,
      "metadata": {
        "colab": {
          "base_uri": "https://localhost:8080/"
        },
        "id": "w8ZmzX3fYltr",
        "outputId": "a8f49e18-16f9-43c9-d7a4-0d182a9779c6"
      },
      "outputs": [
        {
          "name": "stdout",
          "output_type": "stream",
          "text": [
            "{'partial': ''}\n",
            "{'partial': ''}\n",
            "{'partial': ''}\n",
            "{'partial': ''}\n",
            "{'partial': 'one'}\n",
            "{'partial': 'one zero'}\n",
            "{'partial': 'one zero'}\n",
            "{'partial': 'one zero zero'}\n",
            "{'partial': 'one zero zero'}\n",
            "{'partial': 'one zero zero zero'}\n",
            "{'partial': 'one zero zero zero one'}\n",
            "{'partial': 'one zero zero zero one'}\n",
            "{'partial': 'one zero zero zero one'}\n",
            "{\n",
            "  \"text\" : \"one zero zero zero one\"\n",
            "}\n",
            "{'partial': ''}\n",
            "{'partial': 'one'}\n",
            "{'partial': 'nine'}\n",
            "{'partial': 'nine oh two'}\n",
            "{'partial': 'nine oh two one'}\n",
            "{'partial': 'nine oh two one oh'}\n",
            "{'partial': 'nine oh two one oh'}\n",
            "{'partial': 'nine oh two one oh'}\n",
            "{\n",
            "  \"text\" : \"nine oh two one oh\"\n",
            "}\n",
            "{'partial': 'one'}\n",
            "{'partial': 'one'}\n",
            "{'partial': ''}\n",
            "{'partial': 'zero'}\n",
            "{'partial': 'zero one'}\n",
            "{'partial': 'zero one eight'}\n",
            "{'partial': 'zero one eight zero'}\n",
            "{'partial': 'zero one eight zero'}\n",
            "{'partial': 'zero one eight zero three'}\n",
            "{'partial': 'zero one eight zero three'}\n",
            "{'partial': 'zero one eight zero three'}\n"
          ]
        }
      ],
      "source": [
        "while True:\n",
        "    data = wf.readframes(4000)\n",
        "    if len(data) == 0:\n",
        "        break\n",
        "    if rec.AcceptWaveform(data):\n",
        "        print(rec.Result())\n",
        "    else:\n",
        "        jres = json.loads(rec.PartialResult())\n",
        "        print(jres)\n"
      ]
    }
  ],
  "metadata": {
    "colab": {
      "collapsed_sections": [],
      "name": "Vosk Colab Demo",
      "provenance": []
    },
    "kernelspec": {
      "display_name": "Python 3",
      "name": "python3"
    },
    "language_info": {
      "codemirror_mode": {
        "name": "ipython",
        "version": 3
      },
      "file_extension": ".py",
      "mimetype": "text/x-python",
      "name": "python",
      "nbconvert_exporter": "python",
      "pygments_lexer": "ipython3",
      "version": "3.9.6"
    }
  },
  "nbformat": 4,
  "nbformat_minor": 0
}
